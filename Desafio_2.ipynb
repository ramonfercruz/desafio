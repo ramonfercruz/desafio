{
  "nbformat": 4,
  "nbformat_minor": 0,
  "metadata": {
    "colab": {
      "name": "desafio_2.ipynb",
      "provenance": []
    },
    "kernelspec": {
      "name": "python3",
      "display_name": "Python 3"
    },
    "language_info": {
      "name": "python"
    }
  },
  "cells": [
    {
      "cell_type": "markdown",
      "metadata": {
        "id": "AaK-3WVD2pmT"
      },
      "source": [
        "#<b>2º Desafio </b>\n",
        "<p>Antes de apresentar as análises para a liderança, você decide se reunir com seu colega \n",
        "de trabalho para discutirem os resultados e se estruturarem para a apresentação. No entanto, \n",
        "para isso, é preciso identificar um horário na agenda que seja factível para ambos.\n",
        "<p>Dadas as agendas de duas pessoas e seus respectivos horários de trabalho, escreva \n",
        "um algoritmo que retorna todos os horários nos quais ambas as pessoas estariam disponíveis \n",
        "para uma reunião de t minutos. \n",
        "<p>As agendas serão compostas por uma lista de n compromissos previamente marcados. \n",
        "Esses compromissos, por sua vez, serão representados por uma lista ou tuple de duas strings, \n",
        "no qual o primeiro elemento representa o horário de início do compromisso e o último elemento \n",
        "o horário de término. A jornada de trabalho terá o mesmo formato de um compromisso, no qual \n",
        "o primeiro elemento representa o horário de início do turno e o último elemento o horário final da \n",
        "jornada. O tempo da reunião, em minutos, será um inteiro. Por fim, espera-se que o resultado \n",
        "esteja no mesmo formato das agendas, nos quais os “compromissos”, nesse caso, \n",
        "correspondem aos horários disponíveis para a reunião. \n",
        "<p><b>Exemplo:</b> Considere o seguinte cenário:\n",
        "<p>1. Agenda da pessoa A: [['9:00', '10:30'], ['12:00', '13:00'], ['16:00', '18:00']]\n",
        "<p>2. Horário de Trabalho da pessoa A: ['9:00', '20:00']\n",
        "<p>3. Agenda da pessoa B: [['10:00', '11:30'], ['12:30', '14:30'], ['14:30', '15:00'], ['16:00', \n",
        "'17:00']]\n",
        "<p>4. Horário de Trabalho da pessoa B: ['10:00', '18:30']\n",
        "<p>Os horários que possibilitam uma reunião de 30 minutos entre a pessoa A e pessoa B são:\n",
        "[['11:30', '12:00'], ['15:00', '16:00'], ['18:00', '18:30']]"
      ]
    },
    {
      "cell_type": "code",
      "metadata": {
        "id": "Lry-tNa34FZM"
      },
      "source": [
        "import time"
      ],
      "execution_count": 1,
      "outputs": []
    },
    {
      "cell_type": "code",
      "metadata": {
        "id": "jox2F6Dk3MCJ"
      },
      "source": [
        "#Definição de variaveis\n",
        "minutos_compromisso = 30\n",
        "agenda_pa =  [['9:00', '10:30'], ['12:00', '13:00'], ['16:00', '18:00']]\n",
        "agenda_pb = [['10:00', '11:30'], ['12:30', '14:30'], ['14:30', '15:00'], ['16:00', '17:00']]\n",
        "horario_trabalho_pa = ['9:00', '20:00']\n",
        "horario_trabalho_pb = ['10:00', '18:30']"
      ],
      "execution_count": 2,
      "outputs": []
    },
    {
      "cell_type": "code",
      "metadata": {
        "id": "6JrkGpBKEzWF"
      },
      "source": [
        "#Definição de funções\n",
        "def aceita_horario(agenda_a, agenda_b, posicao_a, posicao_b, minutos):\n",
        "  resultado = None\n",
        "  inicio_a =  agenda_a.minutos_inicio_item(posicao_a)\n",
        "  inicio_b = agenda_b.minutos_inicio_item(posicao_b)\n",
        "  fim_a =  agenda_a.minutos_fim_item(posicao_a)\n",
        "  fim_b = agenda_b.minutos_fim_item(posicao_b)\n",
        "  lista_inicio = [inicio_a, inicio_b]\n",
        "  lista_fim = [fim_a, fim_b]\n",
        "  lista_inicio.sort()\n",
        "  lista_fim.sort()\n",
        "  delta = lista_fim[0] - lista_inicio[1]  \n",
        "  if delta >= minutos:\n",
        "    resultado = [lista_inicio[1], lista_fim[0]]\n",
        "  return resultado\n",
        "  \n",
        "def gera_horario_resultado(resultado):\n",
        "  lista_horarios = []\n",
        "  for inicio, fim in resultado:\n",
        "    lista_horarios.append([convert_minutos(inicio), convert_minutos(fim)])\n",
        "  return lista_horarios\n",
        "\n",
        "\n",
        "def processa_agenda(agenda_pessoa_a, agenda_pessoa_b, minutos_compromisso):\n",
        "  resultado = []\n",
        "  for posicao_a in range(0, agenda_pessoa_a.tamanho_agenda):\n",
        "    if minutos_compromisso <= agenda_pessoa_a.tempo_total_item(posicao_a):\n",
        "      for posicao_b in range(0, agenda_pessoa_b.tamanho_agenda):\n",
        "        if minutos_compromisso <= agenda_pessoa_b.tempo_total_item(posicao_b):\n",
        "          inicio_agenda = aceita_horario(agenda_pessoa_a, agenda_pessoa_b, posicao_a, posicao_b, minutos_compromisso)\n",
        "          if inicio_agenda:\n",
        "            resultado.append(inicio_agenda)\n",
        "  return resultado\n",
        "\n",
        "def retorna_minutos(hora):\n",
        "  x = time.strptime(hora, '%H:%M')\n",
        "  minutos = x[3] * 60 + x[4]\n",
        "  return minutos\n",
        "\n",
        "def convert_minutos(tempo):\n",
        "  hora = tempo // 60\n",
        "  minutos = int(tempo % 60)\n",
        "  hora = str(hora)\n",
        "  minutos = str(minutos)\n",
        "  if len(minutos) == 1:\n",
        "    minutos = '0'+minutos\n",
        "  if len(hora) == 1:\n",
        "    hora = '0'+hora\n",
        "  return hora+\":\"+minutos\n"
      ],
      "execution_count": 3,
      "outputs": []
    },
    {
      "cell_type": "code",
      "metadata": {
        "id": "AC6lE2lR9cKB"
      },
      "source": [
        "#Definição da classe\n",
        "class AgendaPessoa():\n",
        "  def __init__(self, agenda_ocupada, horario_trabalho):\n",
        "    self.__agenda_ocupada = agenda_ocupada\n",
        "    self.__agenda_ocupada_minutos = []\n",
        "    self.__agenda_disponivel = []\n",
        "    self.__horario_trabalho = horario_trabalho\n",
        "    self.__inicio_jornada_minutos = 0\n",
        "    self.__fim_jornada_minutos = 0\n",
        "    self.__agenda_disponivel_minutos = []\n",
        "\n",
        "    self.__gera_agenda_ocupada_minutos()\n",
        "    self.__inicio_fim_jornada_minutos()\n",
        "    self.__gera_intervalo_disponivel()\n",
        "    self.__gera_agenda_disponivel_minutos()\n",
        "    self.__tamanho_agenda = len(self.__agenda_disponivel)\n",
        "    \n",
        "\n",
        "  def __gera_agenda_ocupada_minutos(self):\n",
        "    _lista_temp = []\n",
        "    for horario in self.__agenda_ocupada:\n",
        "      horario_inicio, horario_fim = horario\n",
        "      minutos_horario_inicio = retorna_minutos(horario_inicio)\n",
        "      minutos_horario_fim = retorna_minutos(horario_fim)\n",
        "      tempo = minutos_horario_fim - minutos_horario_inicio\n",
        "      _lista_temp.append([minutos_horario_inicio, minutos_horario_fim, tempo])\n",
        "    _lista_temp.sort()\n",
        "    self.__agenda_ocupada_minutos = _lista_temp\n",
        "\n",
        "  def __gera_intervalo_disponivel(self):\n",
        "    disponivel = []\n",
        "    total_posicoes = len(self.__agenda_ocupada) -1\n",
        "    inicio = self.__inicio_jornada_minutos\n",
        "    fim = self.__fim_jornada_minutos\n",
        "    lista = self.__agenda_ocupada_minutos\n",
        "    for i, horario in enumerate(lista):\n",
        "      delta = horario[0] - inicio\n",
        "      if delta > 0:\n",
        "        disponivel.append([convert_minutos(inicio), convert_minutos(horario[0])])\n",
        "      inicio = horario[1]\n",
        "      if total_posicoes == i:\n",
        "        delta = fim - inicio\n",
        "        if delta > 0:\n",
        "          disponivel.append([convert_minutos(inicio), convert_minutos(fim)])\n",
        "    self.__agenda_disponivel = disponivel\n",
        "  \n",
        "  @property\n",
        "  def agenda_ocupada_minutos(self):\n",
        "    return self.__agenda_ocupada_minutos\n",
        "\n",
        "  def __inicio_fim_jornada_minutos(self):\n",
        "    self.__inicio_jornada_minutos = retorna_minutos(self.__horario_trabalho[0])\n",
        "    self.__fim_jornada_minutos = retorna_minutos(self.__horario_trabalho[1])\n",
        "\n",
        "  def __gera_agenda_disponivel_minutos(self):\n",
        "    for horario in self.__agenda_disponivel:\n",
        "      horario_inicio, horario_fim = horario\n",
        "      minutos_horario_inicio = retorna_minutos(horario_inicio)\n",
        "      minutos_horario_fim = retorna_minutos(horario_fim)\n",
        "      disponibilidade = minutos_horario_fim - minutos_horario_inicio\n",
        "      _agenda = {'minutos_inicio': minutos_horario_inicio,\n",
        "                 'minutos_fim': minutos_horario_fim,\n",
        "                 'hora_inicio': horario_inicio,\n",
        "                 'hora_fim' : horario_fim,\n",
        "                 'tempo_total' : disponibilidade}\n",
        "      self.__agenda_disponivel_minutos.append(_agenda)\n",
        "  \n",
        "  @property\n",
        "  def tamanho_agenda(self):\n",
        "    return self.__tamanho_agenda\n",
        "  \n",
        "  def minutos_inicio_item(self,posicao):\n",
        "    return self.__agenda_disponivel_minutos[posicao]['minutos_inicio']\n",
        "\n",
        "  def minutos_fim_item(self,posicao):\n",
        "    return self.__agenda_disponivel_minutos[posicao]['minutos_fim']\n",
        "\n",
        "  def tempo_total_item(self, posicao):\n",
        "    return self.__agenda_disponivel_minutos[posicao]['tempo_total']\n",
        "\n",
        "  def agenda_item(self,posicao):\n",
        "    return self.__agenda_disponivel[posicao]\n",
        "\n",
        "  @property\n",
        "  def inicio_jornada_minutos(self):\n",
        "    return self.__inicio_jornada_minutos\n",
        "  \n",
        "  @property\n",
        "  def fim_jornada_minutos(self):\n",
        "    return self.__fim_jornada_minutos\n",
        "    \n",
        "  def agenda_minutos_item(self, posicao):\n",
        "    return self.__agenda_disponivel_minutos[posicao]\n",
        "\n",
        "  @property\n",
        "  def agenda_disponivel_minutos(self):\n",
        "    return self.__agenda_disponivel_minutos\n",
        "\n",
        "  @property\n",
        "  def agenda_disponivel(self):\n",
        "    return self.__agenda_disponivel\n",
        "  \n",
        "  @property\n",
        "  def agenda_ocupada(self):\n",
        "    return self.__agenda_ocupada"
      ],
      "execution_count": 4,
      "outputs": []
    },
    {
      "cell_type": "code",
      "metadata": {
        "colab": {
          "base_uri": "https://localhost:8080/"
        },
        "id": "Qs5Zb27V4R-s",
        "outputId": "31f3c8a1-af62-4dcc-a2d0-272de82a7548"
      },
      "source": [
        "if __name__ ==  '__main__':\n",
        "  agenda_pessoa_a = AgendaPessoa(agenda_pa, horario_trabalho_pa)\n",
        "  agenda_pessoa_b = AgendaPessoa(agenda_pb, horario_trabalho_pb)\n",
        "  resultado = processa_agenda(agenda_pessoa_a, agenda_pessoa_b, minutos_compromisso)\n",
        "  horarios = gera_horario_resultado(resultado)\n",
        "  print(horarios)"
      ],
      "execution_count": 5,
      "outputs": [
        {
          "output_type": "stream",
          "text": [
            "[['11:30', '12:00'], ['15:00', '16:00'], ['18:00', '18:30']]\n"
          ],
          "name": "stdout"
        }
      ]
    }
  ]
}